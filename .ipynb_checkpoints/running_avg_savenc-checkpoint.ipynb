{
 "cells": [
  {
   "cell_type": "markdown",
   "id": "33bfe68a-3a3c-41ba-b821-c854d653aa5a",
   "metadata": {},
   "source": [
    "## This code will calcuate the variance for each wave at chosen base point and save the nc files for plotting\n",
    "\n",
    "Author: Fouzia Fahrin (ffahrin@iastate.edu)"
   ]
  },
  {
   "cell_type": "code",
   "execution_count": 1,
   "id": "b42bd5d2-77b0-4497-b0ec-15a0f7459890",
   "metadata": {},
   "outputs": [
    {
     "name": "stderr",
     "output_type": "stream",
     "text": [
      "ERROR 1: PROJ: proj_create_from_database: Open of /opt/miniconda3/envs/prod/share/proj failed\n"
     ]
    }
   ],
   "source": [
    "import numpy as np \n",
    "import matplotlib.pyplot as plt\n",
    "import xarray as xr\n",
    "from netCDF4 import Dataset\n",
    "import pandas as pd\n",
    "import netCDF4\n",
    "\n",
    "from cartopy import config\n",
    "import cartopy.crs as ccrs\n",
    "import cartopy.feature as cfeature\n",
    "from cartopy.util import add_cyclic_point\n",
    "\n",
    "from mpl_toolkits.axes_grid1 import ImageGrid\n",
    "from sklearn.linear_model import LinearRegression\n",
    "from matplotlib.ticker import (MultipleLocator, FormatStrFormatter,\n",
    "                               AutoMinorLocator)\n",
    "\n",
    "from datetime import datetime"
   ]
  },
  {
   "cell_type": "code",
   "execution_count": 2,
   "id": "57d29b8d-8d9f-430e-8ccd-f986062c37c9",
   "metadata": {},
   "outputs": [],
   "source": [
    "#change accordingly\n",
    "\n",
    "wave = \"TD-type\""
   ]
  },
  {
   "cell_type": "code",
   "execution_count": 3,
   "id": "ff817780-45ce-4f2e-af54-f124ac7934d2",
   "metadata": {},
   "outputs": [],
   "source": [
    "figfolder = '/home/ffahrin/test/IMERG/paper1/'\n",
    "dataset = 'IMERG'\n",
    "dri = '/lss/research/agon-lab/IMERG-daily/NASA_interpolated/equ_waves/'\n",
    "fn = '1deg_IMERG_2000-2021_TD-type.nc'\n",
    "data1 = xr.open_dataset(dri+fn)"
   ]
  },
  {
   "cell_type": "code",
   "execution_count": 4,
   "id": "51401508-2c2a-4dcc-bc39-bf4a4388b748",
   "metadata": {},
   "outputs": [],
   "source": [
    "#base point\n",
    "\n",
    "lats = 5\n",
    "latn = 5\n",
    "lonw = 250 #110W\n",
    "lone = 250\n",
    "lat_SHs=-5\n",
    "lat_SHn=-5\n",
    "\n",
    "#Time \n",
    "mn0 = 2\n",
    "mnf = 4\n",
    "yr0 = 2001\n",
    "yrf = 2021\n",
    "time0 = str(yr0)+'-01-01T00:00:00.000000000'\n",
    "timef = str(yrf)+'-12-31T00:00:00.000000000'"
   ]
  },
  {
   "cell_type": "code",
   "execution_count": 5,
   "id": "87330654-af57-495a-aaf6-369857b9ee35",
   "metadata": {},
   "outputs": [],
   "source": [
    "time_all1 = data1['time']"
   ]
  },
  {
   "cell_type": "code",
   "execution_count": 6,
   "id": "299ce2d4-6356-40a6-a1f8-2823f9737007",
   "metadata": {},
   "outputs": [],
   "source": [
    "# set up conditional statements \n",
    "cond1_fma = (time_all1['time.month'] >= mn0) & (time_all1['time.month'] <= mnf) # season of interest\n",
    "cond2_fma = (time_all1['time.year'] <= yrf) & (time_all1['time.year'] >= yr0) # season of interest\n",
    "# now find only the times when MJO amplitude is in season of interest AND exceeds some threshold\n",
    "time1 = time_all1.where((cond1_fma)& (cond2_fma), drop=True) "
   ]
  },
  {
   "cell_type": "markdown",
   "id": "9bdfec79-a072-4dec-b1ea-ac2c92101cce",
   "metadata": {},
   "source": [
    "#### mean"
   ]
  },
  {
   "cell_type": "code",
   "execution_count": 7,
   "id": "9006d441-833a-4332-82b4-1222a931c42c",
   "metadata": {},
   "outputs": [],
   "source": [
    "pr1 = data1['precipitationCal'].sel(lat=slice(lats,latn),lon=slice(lonw,lone)).mean(dim=('lat','lon'))\n",
    "prSH = data1['precipitationCal'].sel(lat=slice(lat_SHs,lat_SHn),lon=slice(lonw,lone)).mean(dim=('lat','lon'))"
   ]
  },
  {
   "cell_type": "code",
   "execution_count": 8,
   "id": "181bf15d-9da1-4c07-bafa-eab9cfe601ef",
   "metadata": {},
   "outputs": [],
   "source": [
    "var = data1['precipitationCal'].sel(lat=slice(lats,latn),lon=slice(lonw,lone)).var(dim=('time'))\n",
    "var_SH = data1['precipitationCal'].sel(lat=slice(lat_SHs,lat_SHn),lon=slice(lonw,lone)).var(dim=('time')) # variance for base point for 20 years"
   ]
  },
  {
   "cell_type": "markdown",
   "id": "cb1ab7c0-0125-4bad-ba00-3a17a9339c25",
   "metadata": {},
   "source": [
    "#### variance"
   ]
  },
  {
   "cell_type": "code",
   "execution_count": 9,
   "id": "c4810f61-7760-4fd8-90f6-04c10b86db9e",
   "metadata": {},
   "outputs": [],
   "source": [
    "pr1_amp = pr1*pr1\n",
    "pr1_amp_SH = prSH*prSH"
   ]
  },
  {
   "cell_type": "code",
   "execution_count": 14,
   "id": "29f878c8-5893-4382-98b7-3a262a94a32d",
   "metadata": {},
   "outputs": [],
   "source": [
    "#running mean\n",
    "\n",
    "pr1_running = pr1_amp.rolling(time=91,center=True).mean()"
   ]
  },
  {
   "cell_type": "code",
   "execution_count": 13,
   "id": "03fc6be1-a690-4596-a01e-6ec4aadf1659",
   "metadata": {},
   "outputs": [],
   "source": [
    "pr1_runningSH = pr1_amp_SH.rolling(time=91,center=True).mean()"
   ]
  },
  {
   "cell_type": "code",
   "execution_count": 15,
   "id": "70dcf4af-4ae8-48a0-8a69-993ab95388f9",
   "metadata": {},
   "outputs": [],
   "source": [
    "# fill in nans with original NOT running mean values at beginning of dataset\n",
    "pr1_running[:45] = pr1_amp[:45]\n"
   ]
  },
  {
   "cell_type": "code",
   "execution_count": 16,
   "id": "6763d521-2c31-46d2-8099-4418cf269fee",
   "metadata": {},
   "outputs": [],
   "source": [
    "pr1_runningSH[:45] = pr1_amp_SH[:45]\n"
   ]
  },
  {
   "cell_type": "code",
   "execution_count": 17,
   "id": "d6fdb4ef-68fd-477f-b42d-56a1ac084297",
   "metadata": {},
   "outputs": [],
   "source": [
    "nt_total = len(pr1_amp)"
   ]
  },
  {
   "cell_type": "code",
   "execution_count": 18,
   "id": "2a840af1-89cc-44db-8be8-f04b3ac07fd6",
   "metadata": {},
   "outputs": [],
   "source": [
    "# fill in nans with original NOT running mean values at end of dataset\n",
    "pr1_running[nt_total-45:] = pr1_amp[nt_total-45:]\n",
    "pr1_runningSH[nt_total-45:] = pr1_amp_SH[nt_total-45:]"
   ]
  },
  {
   "cell_type": "code",
   "execution_count": 19,
   "id": "a2799cbd-8966-4287-bc38-bde843ee8f91",
   "metadata": {},
   "outputs": [],
   "source": [
    "pr1_running_fma_01 = pr1_running.sel(time=slice('2001-02-01T00:00:00.000000000','2001-04-30T00:00:00.000000000')).mean()\n",
    "pr1_running_fma_SH_01 = pr1_runningSH.sel(time=slice('2001-02-01T00:00:00.000000000','2001-04-30T00:00:00.000000000')).mean()"
   ]
  },
  {
   "cell_type": "code",
   "execution_count": 20,
   "id": "3e59d32d-10ed-4400-97ca-343d8f8e3872",
   "metadata": {},
   "outputs": [],
   "source": [
    "pr1_running_fma_02 = pr1_running.sel(time=slice('2002-02-01T00:00:00.000000000','2002-04-30T00:00:00.000000000')).mean()\n",
    "pr1_running_fma_SH_02 = pr1_runningSH.sel(time=slice('2002-02-01T00:00:00.000000000','2002-04-30T00:00:00.000000000')).mean()"
   ]
  },
  {
   "cell_type": "code",
   "execution_count": 21,
   "id": "da6f8097-b3b6-4bf7-9720-1d0b66a65276",
   "metadata": {},
   "outputs": [],
   "source": [
    "pr1_running_fma_03 = pr1_running.sel(time=slice('2003-02-01T00:00:00.000000000','2003-04-30T00:00:00.000000000')).mean()\n",
    "pr1_running_fma_SH_03 = pr1_runningSH.sel(time=slice('2003-02-01T00:00:00.000000000','2003-04-30T00:00:00.000000000')).mean()"
   ]
  },
  {
   "cell_type": "code",
   "execution_count": 22,
   "id": "32eebcd6-4a61-4218-8595-03600e9fe3df",
   "metadata": {},
   "outputs": [],
   "source": [
    "pr1_running_fma_04 = pr1_running.sel(time=slice('2004-02-01T00:00:00.000000000','2004-04-30T00:00:00.000000000')).mean()\n",
    "pr1_running_fma_SH_04 = pr1_runningSH.sel(time=slice('2004-02-01T00:00:00.000000000','2004-04-30T00:00:00.000000000')).mean()"
   ]
  },
  {
   "cell_type": "code",
   "execution_count": 23,
   "id": "d2bff4a9-4b3f-47ed-a47a-9c6183916c5a",
   "metadata": {},
   "outputs": [],
   "source": [
    "pr1_running_fma_05 = pr1_running.sel(time=slice('2005-02-01T00:00:00.000000000','2005-04-30T00:00:00.000000000')).mean()\n",
    "pr1_running_fma_SH_05 = pr1_runningSH.sel(time=slice('2005-02-01T00:00:00.000000000','2005-04-30T00:00:00.000000000')).mean()"
   ]
  },
  {
   "cell_type": "code",
   "execution_count": 24,
   "id": "1e05adbb-bad4-4744-8a3d-3d6bb3de3ec8",
   "metadata": {},
   "outputs": [],
   "source": [
    "pr1_running_fma_06 = pr1_running.sel(time=slice('2006-02-01T00:00:00.000000000','2006-04-30T00:00:00.000000000')).mean()\n",
    "pr1_running_fma_SH_06 = pr1_runningSH.sel(time=slice('2006-02-01T00:00:00.000000000','2006-04-30T00:00:00.000000000')).mean()"
   ]
  },
  {
   "cell_type": "code",
   "execution_count": 25,
   "id": "e98a68f5-34ef-4820-90ec-5224baa0bb79",
   "metadata": {},
   "outputs": [],
   "source": [
    "pr1_running_fma_07 = pr1_running.sel(time=slice('2007-02-01T00:00:00.000000000','2007-04-30T00:00:00.000000000')).mean()\n",
    "pr1_running_fma_SH_07 = pr1_runningSH.sel(time=slice('2007-02-01T00:00:00.000000000','2007-04-30T00:00:00.000000000')).mean()"
   ]
  },
  {
   "cell_type": "code",
   "execution_count": 26,
   "id": "5a45d19c-21d1-4a1a-9ef2-685f52e9eda4",
   "metadata": {},
   "outputs": [],
   "source": [
    "pr1_running_fma_08 = pr1_running.sel(time=slice('2008-02-01T00:00:00.000000000','2008-04-30T00:00:00.000000000')).mean()\n",
    "pr1_running_fma_SH_08 = pr1_runningSH.sel(time=slice('2008-02-01T00:00:00.000000000','2008-04-30T00:00:00.000000000')).mean()"
   ]
  },
  {
   "cell_type": "code",
   "execution_count": 27,
   "id": "8df74d6e-b42a-437e-9bbf-1536d4c2df69",
   "metadata": {},
   "outputs": [],
   "source": [
    "pr1_running_fma_09 = pr1_running.sel(time=slice('2009-02-01T00:00:00.000000000','2009-04-30T00:00:00.000000000')).mean()\n",
    "pr1_running_fma_SH_09 = pr1_runningSH.sel(time=slice('2009-02-01T00:00:00.000000000','2009-04-30T00:00:00.000000000')).mean()"
   ]
  },
  {
   "cell_type": "code",
   "execution_count": 28,
   "id": "ff896a98-3a3e-4e62-b970-65413357767d",
   "metadata": {},
   "outputs": [],
   "source": [
    "pr1_running_fma_10 = pr1_running.sel(time=slice('2010-02-01T00:00:00.000000000','2010-04-30T00:00:00.000000000')).mean()\n",
    "pr1_running_fma_SH_10 = pr1_runningSH.sel(time=slice('2010-02-01T00:00:00.000000000','2010-04-30T00:00:00.000000000')).mean()"
   ]
  },
  {
   "cell_type": "code",
   "execution_count": 29,
   "id": "e6218465-74f6-497a-8f67-4847b41e9f39",
   "metadata": {},
   "outputs": [],
   "source": [
    "pr1_running_fma_11 = pr1_running.sel(time=slice('2011-02-01T00:00:00.000000000','2011-04-30T00:00:00.000000000')).mean()\n",
    "pr1_running_fma_SH_11 = pr1_runningSH.sel(time=slice('2011-02-01T00:00:00.000000000','2011-04-30T00:00:00.000000000')).mean()"
   ]
  },
  {
   "cell_type": "code",
   "execution_count": 30,
   "id": "fe78d43f-6c60-47be-90b5-1706edc97433",
   "metadata": {},
   "outputs": [],
   "source": [
    "pr1_running_fma_12 = pr1_running.sel(time=slice('2012-02-01T00:00:00.000000000','2012-04-30T00:00:00.000000000')).mean()\n",
    "pr1_running_fma_SH_12 = pr1_runningSH.sel(time=slice('2012-02-01T00:00:00.000000000','2012-04-30T00:00:00.000000000')).mean()"
   ]
  },
  {
   "cell_type": "code",
   "execution_count": 31,
   "id": "838cbff7-8601-4617-83d4-43d6ea32d970",
   "metadata": {},
   "outputs": [],
   "source": [
    "pr1_running_fma_13 = pr1_running.sel(time=slice('2013-02-01T00:00:00.000000000','2013-04-30T00:00:00.000000000')).mean()\n",
    "pr1_running_fma_SH_13 = pr1_runningSH.sel(time=slice('2013-02-01T00:00:00.000000000','2013-04-30T00:00:00.000000000')).mean()"
   ]
  },
  {
   "cell_type": "code",
   "execution_count": 32,
   "id": "24eaac52-82b1-42b5-b519-157b9d519fb4",
   "metadata": {},
   "outputs": [],
   "source": [
    "pr1_running_fma_14 = pr1_running.sel(time=slice('2014-02-01T00:00:00.000000000','2014-04-30T00:00:00.000000000')).mean()\n",
    "pr1_running_fma_SH_14 = pr1_runningSH.sel(time=slice('2014-02-01T00:00:00.000000000','2014-04-30T00:00:00.000000000')).mean()"
   ]
  },
  {
   "cell_type": "code",
   "execution_count": 33,
   "id": "e688e265-911a-4fbd-af99-3df0e536365f",
   "metadata": {},
   "outputs": [],
   "source": [
    "pr1_running_fma_15 = pr1_running.sel(time=slice('2015-02-01T00:00:00.000000000','2015-04-30T00:00:00.000000000')).mean()\n",
    "pr1_running_fma_SH_15 = pr1_runningSH.sel(time=slice('2015-02-01T00:00:00.000000000','2015-04-30T00:00:00.000000000')).mean()"
   ]
  },
  {
   "cell_type": "code",
   "execution_count": 34,
   "id": "9d8d1fac-960f-4e4a-a4a0-f278b1abb7e4",
   "metadata": {},
   "outputs": [],
   "source": [
    "pr1_running_fma_16 = pr1_running.sel(time=slice('2016-02-01T00:00:00.000000000','2016-04-30T00:00:00.000000000')).mean()\n",
    "pr1_running_fma_SH_16 = pr1_runningSH.sel(time=slice('2016-02-01T00:00:00.000000000','2016-04-30T00:00:00.000000000')).mean()"
   ]
  },
  {
   "cell_type": "code",
   "execution_count": 35,
   "id": "038047fd-8398-4abc-b5c9-4212a45ea23a",
   "metadata": {},
   "outputs": [],
   "source": [
    "pr1_running_fma_17 = pr1_running.sel(time=slice('2017-02-01T00:00:00.000000000','2017-04-30T00:00:00.000000000')).mean()\n",
    "pr1_running_fma_SH_17 = pr1_runningSH.sel(time=slice('2017-02-01T00:00:00.000000000','2017-04-30T00:00:00.000000000')).mean()"
   ]
  },
  {
   "cell_type": "code",
   "execution_count": 36,
   "id": "25672ce6-c080-4cac-b1f2-f3025af11b04",
   "metadata": {},
   "outputs": [],
   "source": [
    "pr1_running_fma_18 = pr1_running.sel(time=slice('2018-02-01T00:00:00.000000000','2018-04-30T00:00:00.000000000')).mean()\n",
    "pr1_running_fma_SH_18 = pr1_runningSH.sel(time=slice('2018-02-01T00:00:00.000000000','2018-04-30T00:00:00.000000000')).mean()"
   ]
  },
  {
   "cell_type": "code",
   "execution_count": 37,
   "id": "7a9a4616-d9d7-4786-891e-f72fef9886e2",
   "metadata": {},
   "outputs": [],
   "source": [
    "pr1_running_fma_19 = pr1_running.sel(time=slice('2019-02-01T00:00:00.000000000','2019-04-30T00:00:00.000000000')).mean()\n",
    "pr1_running_fma_SH_19 = pr1_runningSH.sel(time=slice('2019-02-01T00:00:00.000000000','2019-04-30T00:00:00.000000000')).mean()"
   ]
  },
  {
   "cell_type": "code",
   "execution_count": 38,
   "id": "64862976-bebd-4fc9-aad7-6ecd4955c82d",
   "metadata": {},
   "outputs": [],
   "source": [
    "pr1_running_fma_20 = pr1_running.sel(time=slice('2020-02-01T00:00:00.000000000','2020-04-30T00:00:00.000000000')).mean()\n",
    "pr1_running_fma_SH_20 = pr1_runningSH.sel(time=slice('2020-02-01T00:00:00.000000000','2020-04-30T00:00:00.000000000')).mean()"
   ]
  },
  {
   "cell_type": "code",
   "execution_count": 39,
   "id": "c20beae3-223e-4976-86d0-6b23ce1ec61c",
   "metadata": {},
   "outputs": [],
   "source": [
    "pr1_running_fma_21 = pr1_running.sel(time=slice('2021-02-01T00:00:00.000000000','2021-04-30T00:00:00.000000000')).mean()\n",
    "pr1_running_fma_SH_21 = pr1_runningSH.sel(time=slice('2021-02-01T00:00:00.000000000','2021-04-30T00:00:00.000000000')).mean()"
   ]
  },
  {
   "cell_type": "code",
   "execution_count": 37,
   "id": "b67b6c7c-4c28-43c2-97ee-71fe76c87a24",
   "metadata": {
    "tags": []
   },
   "outputs": [],
   "source": [
    "fma_prc_NH_tdt = np.array([pr1_running_fma_01.values, pr1_running_fma_02.values, pr1_running_fma_03.values, pr1_running_fma_04.values, pr1_running_fma_05.values,pr1_running_fma_06.values,pr1_running_fma_07.values,pr1_running_fma_08.values,pr1_running_fma_09.values,pr1_running_fma_10.values,pr1_running_fma_11.values,pr1_running_fma_12.values,pr1_running_fma_13.values,pr1_running_fma_14.values,pr1_running_fma_15.values,pr1_running_fma_16.values,pr1_running_fma_17.values,pr1_running_fma_18.values,pr1_running_fma_19.values,pr1_running_fma_20.values,pr1_running_fma_21.values])\n",
    "file = open(\"fma_prc_NH_tdt\", \"wb\")\n",
    "np.save(file, fma_prc_NH_tdt)"
   ]
  },
  {
   "cell_type": "code",
   "execution_count": 38,
   "id": "4b66f9fd-ece9-424f-a6c1-260a45a2e81e",
   "metadata": {},
   "outputs": [],
   "source": [
    "fma_prc_SH_tdt = np.array([pr1_running_fma_SH_01.values, pr1_running_fma_SH_02.values, pr1_running_fma_SH_03.values, pr1_running_fma_SH_04.values, pr1_running_fma_SH_05.values,pr1_running_fma_SH_06.values,pr1_running_fma_SH_07.values,pr1_running_fma_SH_08.values,pr1_running_fma_SH_09.values,pr1_running_fma_SH_10.values,pr1_running_fma_SH_11.values,pr1_running_fma_SH_12.values,pr1_running_fma_SH_13.values,pr1_running_fma_SH_14.values,pr1_running_fma_SH_15.values,pr1_running_fma_SH_16.values,pr1_running_fma_SH_17.values,pr1_running_fma_SH_18.values,pr1_running_fma_SH_19.values,pr1_running_fma_SH_20.values,pr1_running_fma_SH_21.values])\n",
    "fma_prc_SH\n",
    "file = open(\"fma_prc_SH_tdt\", \"wb\")\n",
    "np.save(file, fma_prc_SH_tdt)"
   ]
  }
 ],
 "metadata": {
  "kernelspec": {
   "display_name": "Python 3 (ipykernel)",
   "language": "python",
   "name": "python3"
  },
  "language_info": {
   "codemirror_mode": {
    "name": "ipython",
    "version": 3
   },
   "file_extension": ".py",
   "mimetype": "text/x-python",
   "name": "python",
   "nbconvert_exporter": "python",
   "pygments_lexer": "ipython3",
   "version": "3.10.10"
  }
 },
 "nbformat": 4,
 "nbformat_minor": 5
}
